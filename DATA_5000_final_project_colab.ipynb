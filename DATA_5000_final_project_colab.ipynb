{
  "nbformat": 4,
  "nbformat_minor": 0,
  "metadata": {
    "colab": {
      "provenance": [],
      "authorship_tag": "ABX9TyMT/bc9LNOpWKV6/n8Osdxh",
      "include_colab_link": true
    },
    "kernelspec": {
      "name": "python3",
      "display_name": "Python 3"
    },
    "language_info": {
      "name": "python"
    }
  },
  "cells": [
    {
      "cell_type": "markdown",
      "metadata": {
        "id": "view-in-github",
        "colab_type": "text"
      },
      "source": [
        "<a href=\"https://colab.research.google.com/github/cathmac/Sprott/blob/main/DATA_5000_final_project_colab.ipynb\" target=\"_parent\"><img src=\"https://colab.research.google.com/assets/colab-badge.svg\" alt=\"Open In Colab\"/></a>"
      ]
    },
    {
      "cell_type": "code",
      "source": [
        "!pip install -q xgboost imbalanced-learn matplotlib seaborn scikit-learn fpdf\n"
      ],
      "metadata": {
        "id": "xhatd_syoMA0"
      },
      "execution_count": 54,
      "outputs": []
    },
    {
      "cell_type": "code",
      "source": [
        "import pandas as pd\n",
        "import numpy as np\n",
        "import matplotlib.pyplot as plt\n",
        "import seaborn as sns\n",
        "import os\n",
        "\n",
        "from sklearn.model_selection import train_test_split\n",
        "from sklearn.preprocessing import StandardScaler\n",
        "from sklearn.metrics import (\n",
        "    average_precision_score, roc_auc_score, confusion_matrix, precision_score,\n",
        "    recall_score, f1_score, precision_recall_curve, roc_curve,\n",
        "    matthews_corrcoef, ConfusionMatrixDisplay\n",
        ")\n",
        "\n",
        "# Unsupervised models\n",
        "from sklearn.ensemble import IsolationForest\n",
        "from sklearn.svm import OneClassSVM\n",
        "from sklearn.neighbors import LocalOutlierFactor\n",
        "from sklearn.cluster import KMeans, DBSCAN\n",
        "from sklearn.covariance import EllipticEnvelope\n",
        "from sklearn.mixture import GaussianMixture\n",
        "\n",
        "# Supervised models\n",
        "from sklearn.ensemble import RandomForestClassifier\n",
        "from sklearn.linear_model import LogisticRegression\n",
        "from xgboost import XGBClassifier\n",
        "\n",
        "# Imbalanced data handling\n",
        "from imblearn.under_sampling import RandomUnderSampler\n",
        "\n",
        "# PDF generation\n",
        "from fpdf import FPDF\n",
        "from google.colab import files\n"
      ],
      "metadata": {
        "id": "qTPc8TGXoNvu"
      },
      "execution_count": 55,
      "outputs": []
    },
    {
      "cell_type": "code",
      "source": [
        "# Load dataset into a DataFrame (update the path as needed)\n",
        "df = pd.read_csv('/content/drive/MyDrive/DATA 5000/creditcard.csv')\n",
        "\n",
        "# Separate features and target\n",
        "X = df.drop(columns=['Class'])\n",
        "y = df['Class']\n",
        "\n",
        "# Standardize 'Amount' and 'Time' columns\n",
        "scaler = StandardScaler()\n",
        "X[['Amount', 'Time']] = scaler.fit_transform(X[['Amount', 'Time']])\n",
        "\n",
        "# Handle class imbalance using Random Under Sampling\n",
        "rus = RandomUnderSampler(random_state=42)\n",
        "X_resampled, y_resampled = rus.fit_resample(X, y)\n",
        "\n",
        "# Split the data into training and testing sets\n",
        "X_train, X_test, y_train, y_test = train_test_split(\n",
        "    X_resampled, y_resampled, test_size=0.3, random_state=42, stratify=y_resampled\n",
        ")\n",
        "\n",
        "# Verify the shapes of the splits\n",
        "print(f\"X_train shape: {X_train.shape}\")\n",
        "print(f\"y_train shape: {y_train.shape}\")\n",
        "print(f\"X_test shape: {X_test.shape}\")\n",
        "print(f\"y_test shape: {y_test.shape}\")\n"
      ],
      "metadata": {
        "colab": {
          "base_uri": "https://localhost:8080/"
        },
        "id": "B7T--kYSoPVw",
        "outputId": "966df391-c2ce-4294-d704-29c6b3c8f363"
      },
      "execution_count": 56,
      "outputs": [
        {
          "output_type": "stream",
          "name": "stdout",
          "text": [
            "X_train shape: (688, 30)\n",
            "y_train shape: (688,)\n",
            "X_test shape: (296, 30)\n",
            "y_test shape: (296,)\n"
          ]
        }
      ]
    },
    {
      "cell_type": "code",
      "source": [
        "os.makedirs(\"charts\", exist_ok=True)\n"
      ],
      "metadata": {
        "id": "hIrKvzlAoRVr"
      },
      "execution_count": 57,
      "outputs": []
    },
    {
      "cell_type": "code",
      "source": [
        "def train_and_evaluate_model(model, model_name, is_supervised=True):\n",
        "    print(f\"\\nTraining and evaluating {model_name}...\")\n",
        "\n",
        "    X_train_np = X_train.to_numpy()\n",
        "    X_test_np = X_test.to_numpy()\n",
        "\n",
        "    # Training and predicting\n",
        "    if is_supervised:\n",
        "        model.fit(X_train, y_train)\n",
        "        y_pred = model.predict(X_test)\n",
        "        y_scores = model.predict_proba(X_test)[:, 1]\n",
        "    else:\n",
        "        if model_name == \"DBSCAN\":\n",
        "            model.fit(X_train_np)\n",
        "            y_pred = model.fit_predict(X_test_np)\n",
        "            y_scores = np.zeros(len(y_pred))\n",
        "        elif model_name == \"LocalOutlierFactor\":\n",
        "            model.fit(X_train_np)\n",
        "            y_pred = model.predict(X_test_np)\n",
        "            y_scores = -model._decision_function(X_test_np)\n",
        "        elif model_name == \"KMeans\":\n",
        "            model.fit(X_train_np)\n",
        "            y_pred = model.predict(X_test_np)\n",
        "            y_scores = -model.transform(X_test_np).min(axis=1)\n",
        "        else:\n",
        "            model.fit(X_train_np)\n",
        "            y_pred = model.predict(X_test_np)\n",
        "            y_scores = model.decision_function(X_test_np) if hasattr(model, \"decision_function\") else model.score_samples(X_test_np)\n",
        "\n",
        "    # Map predictions for unsupervised models (-1 -> 1 for fraud, 1 -> 0 for normal)\n",
        "    if not is_supervised:\n",
        "        y_pred = [0 if pred == 1 else 1 for pred in y_pred]\n",
        "\n",
        "    # Metrics\n",
        "    precision = precision_score(y_test, y_pred, zero_division=0)\n",
        "    recall = recall_score(y_test, y_pred)\n",
        "    f1 = f1_score(y_test, y_pred)\n",
        "    roc_auc = roc_auc_score(y_test, y_scores)\n",
        "    pr_auc = average_precision_score(y_test, y_scores)\n",
        "    mcc = matthews_corrcoef(y_test, y_pred)\n",
        "\n",
        "    # Save Precision-Recall Curve\n",
        "    precision_vals, recall_vals, _ = precision_recall_curve(y_test, y_scores)\n",
        "    plt.figure()\n",
        "    plt.plot(recall_vals, precision_vals, marker='.', label=f'{model_name} (PR AUC={pr_auc:.4f})')\n",
        "    plt.xlabel('Recall')\n",
        "    plt.ylabel('Precision')\n",
        "    plt.title(f'Precision-Recall Curve: {model_name}')\n",
        "    plt.legend()\n",
        "    plt.grid()\n",
        "    pr_curve_path = f'charts/{model_name}_pr_curve.png'\n",
        "    plt.savefig(pr_curve_path)\n",
        "    plt.close()\n",
        "\n",
        "    # Save ROC Curve\n",
        "    fpr, tpr, _ = roc_curve(y_test, y_scores)\n",
        "    plt.figure()\n",
        "    plt.plot(fpr, tpr, marker='.', label=f'{model_name} (ROC AUC={roc_auc:.4f})')\n",
        "    plt.xlabel('False Positive Rate')\n",
        "    plt.ylabel('True Positive Rate')\n",
        "    plt.title(f'ROC Curve: {model_name}')\n",
        "    plt.legend()\n",
        "    plt.grid()\n",
        "    roc_curve_path = f'charts/{model_name}_roc_curve.png'\n",
        "    plt.savefig(roc_curve_path)\n",
        "    plt.close()\n",
        "\n",
        "    # Save Confusion Matrix\n",
        "    plt.figure(figsize=(6, 5))\n",
        "    disp = ConfusionMatrixDisplay(confusion_matrix=confusion_matrix(y_test, y_pred), display_labels=[0, 1])\n",
        "    disp.plot(cmap='Blues')\n",
        "    plt.title(f'Confusion Matrix: {model_name}')\n",
        "    cm_path = f'charts/{model_name}_confusion_matrix.png'\n",
        "    plt.savefig(cm_path)\n",
        "    plt.close()\n",
        "\n",
        "    return {\n",
        "        \"Model\": model_name,\n",
        "        \"Precision\": precision,\n",
        "        \"Recall\": recall,\n",
        "        \"F1 Score\": f1,\n",
        "        \"ROC AUC\": roc_auc,\n",
        "        \"PR AUC\": pr_auc,\n",
        "        \"MCC\": mcc,\n",
        "        \"PR Curve\": pr_curve_path,\n",
        "        \"ROC Curve\": roc_curve_path,\n",
        "        \"Confusion Matrix\": cm_path\n",
        "    }\n"
      ],
      "metadata": {
        "id": "3LJeSh9UoUDF"
      },
      "execution_count": 58,
      "outputs": []
    },
    {
      "cell_type": "code",
      "source": [
        "# Unsupervised models\n",
        "unsupervised_models = {\n",
        "    \"IsolationForest\": IsolationForest(n_estimators=100, contamination=0.01, random_state=42),\n",
        "    \"OneClassSVM\": OneClassSVM(kernel='rbf', nu=0.01, gamma='auto'),\n",
        "    \"LocalOutlierFactor\": LocalOutlierFactor(n_neighbors=10),\n",
        "    \"EllipticEnvelope\": EllipticEnvelope(contamination=0.01, support_fraction=0.9),\n",
        "    \"KMeans\": KMeans(n_clusters=2, init='k-means++', random_state=42),\n",
        "    \"GaussianMixture\": GaussianMixture(n_components=2, covariance_type='full', random_state=42),\n",
        "    \"DBSCAN\": DBSCAN(eps=0.5, min_samples=5)\n",
        "}\n",
        "\n",
        "# Supervised models\n",
        "supervised_models = {\n",
        "    \"RandomForest\": RandomForestClassifier(random_state=42),\n",
        "    \"XGBoost\": XGBClassifier(eval_metric='logloss', random_state=42),\n",
        "    \"LogisticRegression\": LogisticRegression(max_iter=1000, random_state=42)\n",
        "}\n",
        "\n",
        "# Train and evaluate all models\n",
        "all_results = []\n",
        "\n",
        "# Evaluate unsupervised models\n",
        "for model_name, model in unsupervised_models.items():\n",
        "    try:\n",
        "        result = train_and_evaluate_model(model, model_name, is_supervised=False)\n",
        "        all_results.append(result)\n",
        "    except Exception as e:\n",
        "        print(f\"Error training {model_name}: {e}\")\n",
        "\n",
        "# Evaluate supervised models\n",
        "for model_name, model in supervised_models.items():\n",
        "    try:\n",
        "        result = train_and_evaluate_model(model, model_name, is_supervised=True)\n",
        "        all_results.append(result)\n",
        "    except Exception as e:\n",
        "        print(f\"Error training {model_name}: {e}\")\n"
      ],
      "metadata": {
        "colab": {
          "base_uri": "https://localhost:8080/",
          "height": 553
        },
        "id": "pseeJRxzoWtX",
        "outputId": "fc1ed871-6a1d-4587-fca1-ede70df9559e"
      },
      "execution_count": 59,
      "outputs": [
        {
          "output_type": "stream",
          "name": "stdout",
          "text": [
            "\n",
            "Training and evaluating IsolationForest...\n",
            "\n",
            "Training and evaluating OneClassSVM...\n",
            "\n",
            "Training and evaluating LocalOutlierFactor...\n",
            "Error training LocalOutlierFactor: This 'LocalOutlierFactor' has no attribute 'predict'\n",
            "\n",
            "Training and evaluating EllipticEnvelope...\n",
            "\n",
            "Training and evaluating KMeans...\n",
            "\n",
            "Training and evaluating GaussianMixture...\n",
            "\n",
            "Training and evaluating DBSCAN...\n",
            "\n",
            "Training and evaluating RandomForest...\n",
            "\n",
            "Training and evaluating XGBoost...\n",
            "\n",
            "Training and evaluating LogisticRegression...\n"
          ]
        },
        {
          "output_type": "display_data",
          "data": {
            "text/plain": [
              "<Figure size 600x500 with 0 Axes>"
            ]
          },
          "metadata": {}
        },
        {
          "output_type": "display_data",
          "data": {
            "text/plain": [
              "<Figure size 600x500 with 0 Axes>"
            ]
          },
          "metadata": {}
        },
        {
          "output_type": "display_data",
          "data": {
            "text/plain": [
              "<Figure size 600x500 with 0 Axes>"
            ]
          },
          "metadata": {}
        },
        {
          "output_type": "display_data",
          "data": {
            "text/plain": [
              "<Figure size 600x500 with 0 Axes>"
            ]
          },
          "metadata": {}
        },
        {
          "output_type": "display_data",
          "data": {
            "text/plain": [
              "<Figure size 600x500 with 0 Axes>"
            ]
          },
          "metadata": {}
        },
        {
          "output_type": "display_data",
          "data": {
            "text/plain": [
              "<Figure size 600x500 with 0 Axes>"
            ]
          },
          "metadata": {}
        },
        {
          "output_type": "display_data",
          "data": {
            "text/plain": [
              "<Figure size 600x500 with 0 Axes>"
            ]
          },
          "metadata": {}
        },
        {
          "output_type": "display_data",
          "data": {
            "text/plain": [
              "<Figure size 600x500 with 0 Axes>"
            ]
          },
          "metadata": {}
        },
        {
          "output_type": "display_data",
          "data": {
            "text/plain": [
              "<Figure size 600x500 with 0 Axes>"
            ]
          },
          "metadata": {}
        }
      ]
    },
    {
      "cell_type": "code",
      "source": [
        "def generate_pdf_report(results, filename=\"model_performance_report.pdf\"):\n",
        "    pdf = FPDF()\n",
        "    pdf.set_auto_page_break(auto=1, margin=15)\n",
        "\n",
        "    # Title Page\n",
        "    pdf.add_page()\n",
        "    pdf.set_font(\"Arial\", 'B', 20)\n",
        "    pdf.cell(0, 10, \"Model Performance Report\", ln=True, align=\"C\")\n",
        "    pdf.ln(10)\n",
        "    pdf.set_font(\"Arial\", '', 14)\n",
        "    pdf.multi_cell(0, 10, \"This report evaluates various supervised and unsupervised machine learning models for anomaly detection in credit card transactions. The models are compared based on the Precision-Recall AUC (PR AUC) metric, which is well-suited for imbalanced datasets.\")\n",
        "\n",
        "    # Add each model's details with metrics and charts\n",
        "    for result in results:\n",
        "        pdf.add_page()\n",
        "        pdf.set_font(\"Arial\", 'B', 16)\n",
        "        pdf.cell(0, 10, f\"Algorithm: {result['Model']}\", ln=True)\n",
        "        pdf.ln(5)\n",
        "\n",
        "        # Add metrics\n",
        "        pdf.set_font(\"Arial\", '', 12)\n",
        "        pdf.cell(0, 10, f\"Precision: {result['Precision']:.4f}\", ln=True)\n",
        "        pdf.cell(0, 10, f\"Recall: {result['Recall']:.4f}\", ln=True)\n",
        "        pdf.cell(0, 10, f\"F1 Score: {result['F1 Score']:.4f}\", ln=True)\n",
        "        pdf.cell(0, 10, f\"ROC AUC: {result['ROC AUC']:.4f}\", ln=True)\n",
        "        pdf.cell(0, 10, f\"PR AUC: {result['PR AUC']:.4f}\", ln=True)\n",
        "        pdf.cell(0, 10, f\"Matthews Correlation Coefficient (MCC): {result['MCC']:.4f}\", ln=True)\n",
        "        pdf.ln(5)\n",
        "\n",
        "        # Add PR Curve\n",
        "        pdf.set_font(\"Arial\", 'B', 12)\n",
        "        pdf.cell(0, 10, \"Precision-Recall Curve:\", ln=True)\n",
        "        pdf.image(result['PR Curve'], x=10, w=190)\n",
        "        pdf.ln(5)\n",
        "\n",
        "        # Add ROC Curve\n",
        "        pdf.set_font(\"Arial\", 'B', 12)\n",
        "        pdf.cell(0, 10, \"ROC Curve:\", ln=True)\n",
        "        pdf.image(result['ROC Curve'], x=10, w=190)\n",
        "        pdf.ln(5)\n",
        "\n",
        "        # Add Confusion Matrix\n",
        "        pdf.set_font(\"Arial\", 'B', 12)\n",
        "        pdf.cell(0, 10, \"Confusion Matrix:\", ln=True)\n",
        "        pdf.image(result['Confusion Matrix'], x=10, w=190)\n",
        "        pdf.ln(10)\n",
        "\n",
        "    # Conclusion Page\n",
        "    pdf.add_page()\n",
        "    pdf.set_font(\"Arial\", 'B', 20)\n",
        "    pdf.cell(0, 10, \"Conclusion\", ln=True)\n",
        "    pdf.ln(10)\n",
        "    pdf.set_font(\"Arial\", '', 14)\n",
        "    best_model = max(results, key=lambda x: x['PR AUC'])\n",
        "    pdf.multi_cell(0, 10, f\"The best-performing model based on PR AUC is '{best_model['Model']}' with a PR AUC score of {best_model['PR AUC']:.4f}.\\n\\nThis indicates that '{best_model['Model']}' is the most effective model for identifying anomalies in this imbalanced dataset.\")\n",
        "\n",
        "    # Output the PDF\n",
        "    pdf.output(filename)\n",
        "    print(f\"Report saved as {filename}\")\n",
        "\n",
        "    # Download the PDF\n",
        "    files.download(filename)\n",
        "\n",
        "    # Clean up saved images\n",
        "    for result in results:\n",
        "        os.remove(result['PR Curve'])\n",
        "        os.remove(result['ROC Curve'])\n",
        "        os.remove(result['Confusion Matrix'])\n",
        "\n",
        "# Generate and download the report\n",
        "generate_pdf_report(all_results, filename=\"model_performance_report.pdf\")\n"
      ],
      "metadata": {
        "colab": {
          "base_uri": "https://localhost:8080/",
          "height": 35
        },
        "id": "M-9h-vyWoZKO",
        "outputId": "567e394b-a351-4696-eb24-d5924abd29f5"
      },
      "execution_count": 60,
      "outputs": [
        {
          "output_type": "stream",
          "name": "stdout",
          "text": [
            "Report saved as model_performance_report.pdf\n"
          ]
        },
        {
          "output_type": "display_data",
          "data": {
            "text/plain": [
              "<IPython.core.display.Javascript object>"
            ],
            "application/javascript": [
              "\n",
              "    async function download(id, filename, size) {\n",
              "      if (!google.colab.kernel.accessAllowed) {\n",
              "        return;\n",
              "      }\n",
              "      const div = document.createElement('div');\n",
              "      const label = document.createElement('label');\n",
              "      label.textContent = `Downloading \"${filename}\": `;\n",
              "      div.appendChild(label);\n",
              "      const progress = document.createElement('progress');\n",
              "      progress.max = size;\n",
              "      div.appendChild(progress);\n",
              "      document.body.appendChild(div);\n",
              "\n",
              "      const buffers = [];\n",
              "      let downloaded = 0;\n",
              "\n",
              "      const channel = await google.colab.kernel.comms.open(id);\n",
              "      // Send a message to notify the kernel that we're ready.\n",
              "      channel.send({})\n",
              "\n",
              "      for await (const message of channel.messages) {\n",
              "        // Send a message to notify the kernel that we're ready.\n",
              "        channel.send({})\n",
              "        if (message.buffers) {\n",
              "          for (const buffer of message.buffers) {\n",
              "            buffers.push(buffer);\n",
              "            downloaded += buffer.byteLength;\n",
              "            progress.value = downloaded;\n",
              "          }\n",
              "        }\n",
              "      }\n",
              "      const blob = new Blob(buffers, {type: 'application/binary'});\n",
              "      const a = document.createElement('a');\n",
              "      a.href = window.URL.createObjectURL(blob);\n",
              "      a.download = filename;\n",
              "      div.appendChild(a);\n",
              "      a.click();\n",
              "      div.remove();\n",
              "    }\n",
              "  "
            ]
          },
          "metadata": {}
        },
        {
          "output_type": "display_data",
          "data": {
            "text/plain": [
              "<IPython.core.display.Javascript object>"
            ],
            "application/javascript": [
              "download(\"download_a6e5686f-28db-424c-8526-028b939c1623\", \"model_performance_report.pdf\", 621182)"
            ]
          },
          "metadata": {}
        }
      ]
    }
  ]
}